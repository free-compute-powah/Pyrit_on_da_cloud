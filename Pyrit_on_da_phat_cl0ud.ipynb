{
  "nbformat": 4,
  "nbformat_minor": 0,
  "metadata": {
    "colab": {
      "name": "Pyrit_on_da_phat_cloud (2).ipynb",
      "provenance": [],
      "collapsed_sections": []
    },
    "kernelspec": {
      "name": "python3",
      "display_name": "Python 3"
    },
    "accelerator": "GPU"
  },
  "cells": [
    {
      "cell_type": "code",
      "metadata": {
        "id": "ZdSZJGqIk6P8",
        "colab_type": "code",
        "colab": {}
      },
      "source": [
        "!git clone https://github.com/JPaulMora/Pyrit.git"
      ],
      "execution_count": null,
      "outputs": []
    },
    {
      "cell_type": "code",
      "metadata": {
        "id": "jBRB5zEDk830",
        "colab_type": "code",
        "colab": {}
      },
      "source": [
        "!sudo pip install scapy"
      ],
      "execution_count": null,
      "outputs": []
    },
    {
      "cell_type": "code",
      "metadata": {
        "id": "cEVy593NlBAV",
        "colab_type": "code",
        "colab": {}
      },
      "source": [
        "!apt-get install libssl-dev libz-dev libpcap-dev"
      ],
      "execution_count": null,
      "outputs": []
    },
    {
      "cell_type": "code",
      "metadata": {
        "id": "ww8WlCRkl2q7",
        "colab_type": "code",
        "colab": {}
      },
      "source": [
        "!rm /content/Pyrit/modules/cpyrit_opencl/_cpyrit_opencl.c && rm /content/Pyrit/cpyrit/cpufeatures.h && rm /content/Pyrit/cpyrit/_cpyrit_cpu.c"
      ],
      "execution_count": 4,
      "outputs": []
    },
    {
      "cell_type": "code",
      "metadata": {
        "id": "kSr3v7kGnOKN",
        "colab_type": "code",
        "colab": {}
      },
      "source": [
        "!mv /content/_cpyrit_opencl.c /content/Pyrit/modules/cpyrit_opencl/ && mv /content/_cpyrit_cpu.c /content/Pyrit/cpyrit && mv /content/cpufeatures.h /content/Pyrit/cpyrit"
      ],
      "execution_count": 5,
      "outputs": []
    },
    {
      "cell_type": "code",
      "metadata": {
        "id": "xDkl2VwsqM94",
        "colab_type": "code",
        "colab": {}
      },
      "source": [
        "!cd Pyrit/ && python2.7 setup.py build"
      ],
      "execution_count": null,
      "outputs": []
    },
    {
      "cell_type": "code",
      "metadata": {
        "id": "v_sVAKHX2BAf",
        "colab_type": "code",
        "colab": {}
      },
      "source": [
        "!cd Pyrit/ && python2.7 setup.py install"
      ],
      "execution_count": null,
      "outputs": []
    },
    {
      "cell_type": "code",
      "metadata": {
        "id": "90eIfdQtlKzs",
        "colab_type": "code",
        "colab": {}
      },
      "source": [
        "!cd Pyrit/modules/cpyrit_opencl && python2.7 setup.py build"
      ],
      "execution_count": null,
      "outputs": []
    },
    {
      "cell_type": "code",
      "metadata": {
        "id": "p_j3mFoY17ux",
        "colab_type": "code",
        "colab": {}
      },
      "source": [
        "!cd Pyrit/modules/cpyrit_opencl && python2.7 setup.py install"
      ],
      "execution_count": null,
      "outputs": []
    },
    {
      "cell_type": "code",
      "metadata": {
        "id": "Uv7rCygJv5ze",
        "colab_type": "code",
        "colab": {}
      },
      "source": [
        "!pyrit -h"
      ],
      "execution_count": null,
      "outputs": []
    },
    {
      "cell_type": "code",
      "metadata": {
        "id": "NfVR7N-wlamG",
        "colab_type": "code",
        "colab": {}
      },
      "source": [
        "!rm ~/.pyrit/config"
      ],
      "execution_count": 11,
      "outputs": []
    },
    {
      "cell_type": "code",
      "metadata": {
        "id": "E5oVyj4ws-eH",
        "colab_type": "code",
        "colab": {}
      },
      "source": [
        "!mv /content/config /root/.pyrit/"
      ],
      "execution_count": 12,
      "outputs": []
    },
    {
      "cell_type": "code",
      "metadata": {
        "id": "sjoq-uuK28rI",
        "colab_type": "code",
        "colab": {}
      },
      "source": [
        "!pyrit list_cores"
      ],
      "execution_count": null,
      "outputs": []
    },
    {
      "cell_type": "code",
      "metadata": {
        "id": "aerikLKZp7zI",
        "colab_type": "code",
        "colab": {}
      },
      "source": [
        "#!pyrit benchmark"
      ],
      "execution_count": null,
      "outputs": []
    }
  ]
}