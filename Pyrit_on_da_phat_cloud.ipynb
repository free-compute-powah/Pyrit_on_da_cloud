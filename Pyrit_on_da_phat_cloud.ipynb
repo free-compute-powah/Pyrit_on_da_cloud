{
  "nbformat": 4,
  "nbformat_minor": 0,
  "metadata": {
    "colab": {
      "name": "Pyrit_on_da_phat_cloud (2).ipynb",
      "provenance": [],
      "collapsed_sections": []
    },
    "kernelspec": {
      "name": "python3",
      "display_name": "Python 3"
    },
    "accelerator": "GPU"
  },
  "cells": [
    {
      "cell_type": "code",
      "metadata": {
        "id": "ZdSZJGqIk6P8",
        "colab_type": "code",
        "colab": {
          "base_uri": "https://localhost:8080/",
          "height": 139
        },
        "outputId": "601df7b9-7a4a-4fef-f86f-ce64a6ecda67"
      },
      "source": [
        "!git clone https://github.com/JPaulMora/Pyrit.git"
      ],
      "execution_count": 1,
      "outputs": [
        {
          "output_type": "stream",
          "text": [
            "Cloning into 'Pyrit'...\n",
            "remote: Enumerating objects: 3, done.\u001b[K\n",
            "remote: Counting objects: 100% (3/3), done.\u001b[K\n",
            "remote: Compressing objects: 100% (3/3), done.\u001b[K\n",
            "remote: Total 2127 (delta 0), reused 1 (delta 0), pack-reused 2124\u001b[K\n",
            "Receiving objects: 100% (2127/2127), 4.60 MiB | 2.46 MiB/s, done.\n",
            "Resolving deltas: 100% (1451/1451), done.\n"
          ],
          "name": "stdout"
        }
      ]
    },
    {
      "cell_type": "code",
      "metadata": {
        "id": "jBRB5zEDk830",
        "colab_type": "code",
        "colab": {
          "base_uri": "https://localhost:8080/",
          "height": 212
        },
        "outputId": "9750ee1d-46d0-4520-c358-abf93ff57b83"
      },
      "source": [
        "!sudo pip install scapy"
      ],
      "execution_count": 2,
      "outputs": [
        {
          "output_type": "stream",
          "text": [
            "Collecting scapy\n",
            "\u001b[?25l  Downloading https://files.pythonhosted.org/packages/52/e7/464079606a9cf97ad04936c52a5324d14dae36215f9319bf3faa46a7907d/scapy-2.4.3.tar.gz (905kB)\n",
            "\r\u001b[K     |▍                               | 10kB 26.1MB/s eta 0:00:01\r\u001b[K     |▊                               | 20kB 5.9MB/s eta 0:00:01\r\u001b[K     |█                               | 30kB 7.4MB/s eta 0:00:01\r\u001b[K     |█▌                              | 40kB 7.9MB/s eta 0:00:01\r\u001b[K     |█▉                              | 51kB 6.9MB/s eta 0:00:01\r\u001b[K     |██▏                             | 61kB 7.9MB/s eta 0:00:01\r\u001b[K     |██▌                             | 71kB 8.1MB/s eta 0:00:01\r\u001b[K     |███                             | 81kB 8.6MB/s eta 0:00:01\r\u001b[K     |███▎                            | 92kB 8.0MB/s eta 0:00:01\r\u001b[K     |███▋                            | 102kB 8.1MB/s eta 0:00:01\r\u001b[K     |████                            | 112kB 8.1MB/s eta 0:00:01\r\u001b[K     |████▍                           | 122kB 8.1MB/s eta 0:00:01\r\u001b[K     |████▊                           | 133kB 8.1MB/s eta 0:00:01\r\u001b[K     |█████                           | 143kB 8.1MB/s eta 0:00:01\r\u001b[K     |█████▍                          | 153kB 8.1MB/s eta 0:00:01\r\u001b[K     |█████▉                          | 163kB 8.1MB/s eta 0:00:01\r\u001b[K     |██████▏                         | 174kB 8.1MB/s eta 0:00:01\r\u001b[K     |██████▌                         | 184kB 8.1MB/s eta 0:00:01\r\u001b[K     |██████▉                         | 194kB 8.1MB/s eta 0:00:01\r\u001b[K     |███████▎                        | 204kB 8.1MB/s eta 0:00:01\r\u001b[K     |███████▋                        | 215kB 8.1MB/s eta 0:00:01\r\u001b[K     |████████                        | 225kB 8.1MB/s eta 0:00:01\r\u001b[K     |████████▎                       | 235kB 8.1MB/s eta 0:00:01\r\u001b[K     |████████▊                       | 245kB 8.1MB/s eta 0:00:01\r\u001b[K     |█████████                       | 256kB 8.1MB/s eta 0:00:01\r\u001b[K     |█████████▍                      | 266kB 8.1MB/s eta 0:00:01\r\u001b[K     |█████████▊                      | 276kB 8.1MB/s eta 0:00:01\r\u001b[K     |██████████▏                     | 286kB 8.1MB/s eta 0:00:01\r\u001b[K     |██████████▌                     | 296kB 8.1MB/s eta 0:00:01\r\u001b[K     |██████████▉                     | 307kB 8.1MB/s eta 0:00:01\r\u001b[K     |███████████▏                    | 317kB 8.1MB/s eta 0:00:01\r\u001b[K     |███████████▋                    | 327kB 8.1MB/s eta 0:00:01\r\u001b[K     |████████████                    | 337kB 8.1MB/s eta 0:00:01\r\u001b[K     |████████████▎                   | 348kB 8.1MB/s eta 0:00:01\r\u001b[K     |████████████▊                   | 358kB 8.1MB/s eta 0:00:01\r\u001b[K     |█████████████                   | 368kB 8.1MB/s eta 0:00:01\r\u001b[K     |█████████████▍                  | 378kB 8.1MB/s eta 0:00:01\r\u001b[K     |█████████████▊                  | 389kB 8.1MB/s eta 0:00:01\r\u001b[K     |██████████████▏                 | 399kB 8.1MB/s eta 0:00:01\r\u001b[K     |██████████████▌                 | 409kB 8.1MB/s eta 0:00:01\r\u001b[K     |██████████████▉                 | 419kB 8.1MB/s eta 0:00:01\r\u001b[K     |███████████████▏                | 430kB 8.1MB/s eta 0:00:01\r\u001b[K     |███████████████▋                | 440kB 8.1MB/s eta 0:00:01\r\u001b[K     |████████████████                | 450kB 8.1MB/s eta 0:00:01\r\u001b[K     |████████████████▎               | 460kB 8.1MB/s eta 0:00:01\r\u001b[K     |████████████████▋               | 471kB 8.1MB/s eta 0:00:01\r\u001b[K     |█████████████████               | 481kB 8.1MB/s eta 0:00:01\r\u001b[K     |█████████████████▍              | 491kB 8.1MB/s eta 0:00:01\r\u001b[K     |█████████████████▊              | 501kB 8.1MB/s eta 0:00:01\r\u001b[K     |██████████████████              | 512kB 8.1MB/s eta 0:00:01\r\u001b[K     |██████████████████▌             | 522kB 8.1MB/s eta 0:00:01\r\u001b[K     |██████████████████▉             | 532kB 8.1MB/s eta 0:00:01\r\u001b[K     |███████████████████▏            | 542kB 8.1MB/s eta 0:00:01\r\u001b[K     |███████████████████▌            | 552kB 8.1MB/s eta 0:00:01\r\u001b[K     |████████████████████            | 563kB 8.1MB/s eta 0:00:01\r\u001b[K     |████████████████████▎           | 573kB 8.1MB/s eta 0:00:01\r\u001b[K     |████████████████████▋           | 583kB 8.1MB/s eta 0:00:01\r\u001b[K     |█████████████████████           | 593kB 8.1MB/s eta 0:00:01\r\u001b[K     |█████████████████████▍          | 604kB 8.1MB/s eta 0:00:01\r\u001b[K     |█████████████████████▊          | 614kB 8.1MB/s eta 0:00:01\r\u001b[K     |██████████████████████          | 624kB 8.1MB/s eta 0:00:01\r\u001b[K     |██████████████████████▍         | 634kB 8.1MB/s eta 0:00:01\r\u001b[K     |██████████████████████▉         | 645kB 8.1MB/s eta 0:00:01\r\u001b[K     |███████████████████████▏        | 655kB 8.1MB/s eta 0:00:01\r\u001b[K     |███████████████████████▌        | 665kB 8.1MB/s eta 0:00:01\r\u001b[K     |███████████████████████▉        | 675kB 8.1MB/s eta 0:00:01\r\u001b[K     |████████████████████████▎       | 686kB 8.1MB/s eta 0:00:01\r\u001b[K     |████████████████████████▋       | 696kB 8.1MB/s eta 0:00:01\r\u001b[K     |█████████████████████████       | 706kB 8.1MB/s eta 0:00:01\r\u001b[K     |█████████████████████████▍      | 716kB 8.1MB/s eta 0:00:01\r\u001b[K     |█████████████████████████▊      | 727kB 8.1MB/s eta 0:00:01\r\u001b[K     |██████████████████████████      | 737kB 8.1MB/s eta 0:00:01\r\u001b[K     |██████████████████████████▍     | 747kB 8.1MB/s eta 0:00:01\r\u001b[K     |██████████████████████████▉     | 757kB 8.1MB/s eta 0:00:01\r\u001b[K     |███████████████████████████▏    | 768kB 8.1MB/s eta 0:00:01\r\u001b[K     |███████████████████████████▌    | 778kB 8.1MB/s eta 0:00:01\r\u001b[K     |███████████████████████████▉    | 788kB 8.1MB/s eta 0:00:01\r\u001b[K     |████████████████████████████▎   | 798kB 8.1MB/s eta 0:00:01\r\u001b[K     |████████████████████████████▋   | 808kB 8.1MB/s eta 0:00:01\r\u001b[K     |█████████████████████████████   | 819kB 8.1MB/s eta 0:00:01\r\u001b[K     |█████████████████████████████▎  | 829kB 8.1MB/s eta 0:00:01\r\u001b[K     |█████████████████████████████▊  | 839kB 8.1MB/s eta 0:00:01\r\u001b[K     |██████████████████████████████  | 849kB 8.1MB/s eta 0:00:01\r\u001b[K     |██████████████████████████████▍ | 860kB 8.1MB/s eta 0:00:01\r\u001b[K     |██████████████████████████████▊ | 870kB 8.1MB/s eta 0:00:01\r\u001b[K     |███████████████████████████████▏| 880kB 8.1MB/s eta 0:00:01\r\u001b[K     |███████████████████████████████▌| 890kB 8.1MB/s eta 0:00:01\r\u001b[K     |███████████████████████████████▉| 901kB 8.1MB/s eta 0:00:01\r\u001b[K     |████████████████████████████████| 911kB 8.1MB/s \n",
            "\u001b[?25hBuilding wheels for collected packages: scapy\n",
            "  Building wheel for scapy (setup.py) ... \u001b[?25l\u001b[?25hdone\n",
            "  Created wheel for scapy: filename=scapy-2.4.3-py2.py3-none-any.whl size=1043873 sha256=63f9b140756fbb20ae7d5376c6da9b79928c2d2092e15d9cee7617c7ca5542b8\n",
            "  Stored in directory: /root/.cache/pip/wheels/95/bf/51/905b3e84ec4ca910ce4ae92173c7334623105a265bdd1d9438\n",
            "Successfully built scapy\n",
            "Installing collected packages: scapy\n",
            "Successfully installed scapy-2.4.3\n"
          ],
          "name": "stdout"
        }
      ]
    },
    {
      "cell_type": "code",
      "metadata": {
        "id": "cEVy593NlBAV",
        "colab_type": "code",
        "colab": {
          "base_uri": "https://localhost:8080/",
          "height": 648
        },
        "outputId": "677311fb-5ab9-4384-bd7f-58bcd32cdbbd"
      },
      "source": [
        "!apt-get install libssl-dev libz-dev libpcap-dev"
      ],
      "execution_count": 3,
      "outputs": [
        {
          "output_type": "stream",
          "text": [
            "Reading package lists... Done\n",
            "Building dependency tree       \n",
            "Reading state information... Done\n",
            "Note, selecting 'zlib1g-dev' instead of 'libz-dev'\n",
            "zlib1g-dev is already the newest version (1:1.2.11.dfsg-0ubuntu2).\n",
            "zlib1g-dev set to manually installed.\n",
            "libssl-dev is already the newest version (1.1.1-1ubuntu2.1~18.04.6).\n",
            "The following package was automatically installed and is no longer required:\n",
            "  libnvidia-common-440\n",
            "Use 'apt autoremove' to remove it.\n",
            "The following NEW packages will be installed:\n",
            "  libpcap-dev libpcap0.8 libpcap0.8-dev\n",
            "0 upgraded, 3 newly installed, 0 to remove and 33 not upgraded.\n",
            "Need to get 339 kB of archives.\n",
            "After this operation, 1,065 kB of additional disk space will be used.\n",
            "Get:1 http://archive.ubuntu.com/ubuntu bionic-updates/main amd64 libpcap0.8 amd64 1.8.1-6ubuntu1.18.04.1 [118 kB]\n",
            "Get:2 http://archive.ubuntu.com/ubuntu bionic-updates/main amd64 libpcap0.8-dev amd64 1.8.1-6ubuntu1.18.04.1 [218 kB]\n",
            "Get:3 http://archive.ubuntu.com/ubuntu bionic-updates/main amd64 libpcap-dev amd64 1.8.1-6ubuntu1.18.04.1 [3,488 B]\n",
            "Fetched 339 kB in 0s (4,033 kB/s)\n",
            "Selecting previously unselected package libpcap0.8:amd64.\n",
            "(Reading database ... 144379 files and directories currently installed.)\n",
            "Preparing to unpack .../libpcap0.8_1.8.1-6ubuntu1.18.04.1_amd64.deb ...\n",
            "Unpacking libpcap0.8:amd64 (1.8.1-6ubuntu1.18.04.1) ...\n",
            "Selecting previously unselected package libpcap0.8-dev:amd64.\n",
            "Preparing to unpack .../libpcap0.8-dev_1.8.1-6ubuntu1.18.04.1_amd64.deb ...\n",
            "Unpacking libpcap0.8-dev:amd64 (1.8.1-6ubuntu1.18.04.1) ...\n",
            "Selecting previously unselected package libpcap-dev:amd64.\n",
            "Preparing to unpack .../libpcap-dev_1.8.1-6ubuntu1.18.04.1_amd64.deb ...\n",
            "Unpacking libpcap-dev:amd64 (1.8.1-6ubuntu1.18.04.1) ...\n",
            "Setting up libpcap0.8:amd64 (1.8.1-6ubuntu1.18.04.1) ...\n",
            "Setting up libpcap0.8-dev:amd64 (1.8.1-6ubuntu1.18.04.1) ...\n",
            "Setting up libpcap-dev:amd64 (1.8.1-6ubuntu1.18.04.1) ...\n",
            "Processing triggers for libc-bin (2.27-3ubuntu1) ...\n",
            "/sbin/ldconfig.real: /usr/local/lib/python3.6/dist-packages/ideep4py/lib/libmkldnn.so.0 is not a symbolic link\n",
            "\n",
            "Processing triggers for man-db (2.8.3-2ubuntu0.1) ...\n"
          ],
          "name": "stdout"
        }
      ]
    },
    {
      "cell_type": "code",
      "metadata": {
        "id": "ww8WlCRkl2q7",
        "colab_type": "code",
        "colab": {}
      },
      "source": [
        "!rm /content/Pyrit/modules/cpyrit_opencl/_cpyrit_opencl.c && rm /content/Pyrit/cpyrit/cpufeatures.h && rm /content/Pyrit/cpyrit/_cpyrit_cpu.c"
      ],
      "execution_count": 4,
      "outputs": []
    },
    {
      "cell_type": "code",
      "metadata": {
        "id": "kSr3v7kGnOKN",
        "colab_type": "code",
        "colab": {}
      },
      "source": [
        "!mv /content/_cpyrit_opencl.c /content/Pyrit/modules/cpyrit_opencl/ && mv /content/_cpyrit_cpu.c /content/Pyrit/cpyrit && mv /content/cpufeatures.h /content/Pyrit/cpyrit"
      ],
      "execution_count": 5,
      "outputs": []
    },
    {
      "cell_type": "code",
      "metadata": {
        "id": "xDkl2VwsqM94",
        "colab_type": "code",
        "colab": {
          "base_uri": "https://localhost:8080/",
          "height": 616
        },
        "outputId": "aaf59b44-466c-42ed-b9fd-3d9edcd24fd2"
      },
      "source": [
        "!cd Pyrit/ && python2.7 setup.py build"
      ],
      "execution_count": 6,
      "outputs": [
        {
          "output_type": "stream",
          "text": [
            "running build\n",
            "running build_py\n",
            "creating build\n",
            "creating build/lib.linux-x86_64-2.7\n",
            "copying pyrit_cli.py -> build/lib.linux-x86_64-2.7\n",
            "creating build/lib.linux-x86_64-2.7/cpyrit\n",
            "copying cpyrit/__init__.py -> build/lib.linux-x86_64-2.7/cpyrit\n",
            "copying cpyrit/cpyrit.py -> build/lib.linux-x86_64-2.7/cpyrit\n",
            "copying cpyrit/util.py -> build/lib.linux-x86_64-2.7/cpyrit\n",
            "copying cpyrit/pckttools.py -> build/lib.linux-x86_64-2.7/cpyrit\n",
            "copying cpyrit/config.py -> build/lib.linux-x86_64-2.7/cpyrit\n",
            "copying cpyrit/network.py -> build/lib.linux-x86_64-2.7/cpyrit\n",
            "copying cpyrit/storage.py -> build/lib.linux-x86_64-2.7/cpyrit\n",
            "running build_ext\n",
            "building 'cpyrit._cpyrit_cpu' extension\n",
            "creating build/temp.linux-x86_64-2.7\n",
            "creating build/temp.linux-x86_64-2.7/cpyrit\n",
            "x86_64-linux-gnu-gcc -pthread -fno-strict-aliasing -Wdate-time -D_FORTIFY_SOURCE=2 -g -fdebug-prefix-map=/build/python2.7-UKCoZ3/python2.7-2.7.17=. -fstack-protector-strong -Wformat -Werror=format-security -fPIC -I/usr/include/python2.7 -c cpyrit/_cpyrit_cpu.c -o build/temp.linux-x86_64-2.7/cpyrit/_cpyrit_cpu.o -Wall -fno-strict-aliasing -DVERSION=\"0.5.1\" -maes -mpclmul\n",
            "\u001b[01m\u001b[Kcpyrit/_cpyrit_cpu.c:1107:13:\u001b[m\u001b[K \u001b[01;35m\u001b[Kwarning: \u001b[m\u001b[K\"/*\" within comment [\u001b[01;35m\u001b[K-Wcomment\u001b[m\u001b[K]\n",
            "             /* Setup round key from main key */\n",
            "              \n",
            "\u001b[01m\u001b[Kcpyrit/_cpyrit_cpu.c:1110:14:\u001b[m\u001b[K \u001b[01;35m\u001b[Kwarning: \u001b[m\u001b[K\"/*\" within comment [\u001b[01;35m\u001b[K-Wcomment\u001b[m\u001b[K]\n",
            "              /* Get plaintext and XOR it with key to get AES-state */\n",
            "               \n",
            "\u001b[01m\u001b[Kcpyrit/_cpyrit_cpu.c:1114:13:\u001b[m\u001b[K \u001b[01;35m\u001b[Kwarning: \u001b[m\u001b[K\"/*\" within comment [\u001b[01;35m\u001b[K-Wcomment\u001b[m\u001b[K]\n",
            "             /* Perform 10 AES-rounds on the state using the derived round keys */\n",
            "              \n",
            "x86_64-linux-gnu-gcc -pthread -fno-strict-aliasing -Wdate-time -D_FORTIFY_SOURCE=2 -g -fdebug-prefix-map=/build/python2.7-UKCoZ3/python2.7-2.7.17=. -fstack-protector-strong -Wformat -Werror=format-security -fPIC -I/usr/include/python2.7 -c cpyrit/_cpyrit_cpu_sse2.S -o build/temp.linux-x86_64-2.7/cpyrit/_cpyrit_cpu_sse2.o -Wall -fno-strict-aliasing -DVERSION=\"0.5.1\" -maes -mpclmul\n",
            "x86_64-linux-gnu-gcc -pthread -shared -Wl,-O1 -Wl,-Bsymbolic-functions -Wl,-Bsymbolic-functions -Wl,-z,relro -fno-strict-aliasing -DNDEBUG -g -fwrapv -O2 -Wall -Wstrict-prototypes -Wdate-time -D_FORTIFY_SOURCE=2 -g -fdebug-prefix-map=/build/python2.7-UKCoZ3/python2.7-2.7.17=. -fstack-protector-strong -Wformat -Werror=format-security -Wl,-Bsymbolic-functions -Wl,-z,relro -Wdate-time -D_FORTIFY_SOURCE=2 -g -fdebug-prefix-map=/build/python2.7-UKCoZ3/python2.7-2.7.17=. -fstack-protector-strong -Wformat -Werror=format-security -fPIC build/temp.linux-x86_64-2.7/cpyrit/_cpyrit_cpu.o build/temp.linux-x86_64-2.7/cpyrit/_cpyrit_cpu_sse2.o -lcrypto -lpcap -o build/lib.linux-x86_64-2.7/cpyrit/_cpyrit_cpu.so\n",
            "running build_scripts\n",
            "creating build/scripts-2.7\n",
            "copying and adjusting pyrit -> build/scripts-2.7\n",
            "changing mode of build/scripts-2.7/pyrit from 644 to 755\n"
          ],
          "name": "stdout"
        }
      ]
    },
    {
      "cell_type": "code",
      "metadata": {
        "id": "v_sVAKHX2BAf",
        "colab_type": "code",
        "colab": {
          "base_uri": "https://localhost:8080/",
          "height": 578
        },
        "outputId": "e63017af-3558-4420-bb29-004afcf6569a"
      },
      "source": [
        "!cd Pyrit/ && python2.7 setup.py install"
      ],
      "execution_count": 7,
      "outputs": [
        {
          "output_type": "stream",
          "text": [
            "running install\n",
            "running build\n",
            "running build_py\n",
            "running build_ext\n",
            "running build_scripts\n",
            "running install_lib\n",
            "creating /usr/local/lib/python2.7/dist-packages/cpyrit\n",
            "copying build/lib.linux-x86_64-2.7/cpyrit/config.py -> /usr/local/lib/python2.7/dist-packages/cpyrit\n",
            "copying build/lib.linux-x86_64-2.7/cpyrit/_cpyrit_cpu.so -> /usr/local/lib/python2.7/dist-packages/cpyrit\n",
            "copying build/lib.linux-x86_64-2.7/cpyrit/__init__.py -> /usr/local/lib/python2.7/dist-packages/cpyrit\n",
            "copying build/lib.linux-x86_64-2.7/cpyrit/util.py -> /usr/local/lib/python2.7/dist-packages/cpyrit\n",
            "copying build/lib.linux-x86_64-2.7/cpyrit/cpyrit.py -> /usr/local/lib/python2.7/dist-packages/cpyrit\n",
            "copying build/lib.linux-x86_64-2.7/cpyrit/storage.py -> /usr/local/lib/python2.7/dist-packages/cpyrit\n",
            "copying build/lib.linux-x86_64-2.7/cpyrit/pckttools.py -> /usr/local/lib/python2.7/dist-packages/cpyrit\n",
            "copying build/lib.linux-x86_64-2.7/cpyrit/network.py -> /usr/local/lib/python2.7/dist-packages/cpyrit\n",
            "copying build/lib.linux-x86_64-2.7/pyrit_cli.py -> /usr/local/lib/python2.7/dist-packages\n",
            "byte-compiling /usr/local/lib/python2.7/dist-packages/cpyrit/config.py to config.pyc\n",
            "byte-compiling /usr/local/lib/python2.7/dist-packages/cpyrit/__init__.py to __init__.pyc\n",
            "byte-compiling /usr/local/lib/python2.7/dist-packages/cpyrit/util.py to util.pyc\n",
            "byte-compiling /usr/local/lib/python2.7/dist-packages/cpyrit/cpyrit.py to cpyrit.pyc\n",
            "byte-compiling /usr/local/lib/python2.7/dist-packages/cpyrit/storage.py to storage.pyc\n",
            "byte-compiling /usr/local/lib/python2.7/dist-packages/cpyrit/pckttools.py to pckttools.pyc\n",
            "byte-compiling /usr/local/lib/python2.7/dist-packages/cpyrit/network.py to network.pyc\n",
            "byte-compiling /usr/local/lib/python2.7/dist-packages/pyrit_cli.py to pyrit_cli.pyc\n",
            "writing byte-compilation script '/tmp/tmpMGDlJf.py'\n",
            "/usr/bin/python2.7 -O /tmp/tmpMGDlJf.py\n",
            "removing /tmp/tmpMGDlJf.py\n",
            "running install_scripts\n",
            "copying build/scripts-2.7/pyrit -> /usr/local/bin\n",
            "changing mode of /usr/local/bin/pyrit to 755\n",
            "running install_egg_info\n",
            "Writing /usr/local/lib/python2.7/dist-packages/pyrit-0.5.1.egg-info\n"
          ],
          "name": "stdout"
        }
      ]
    },
    {
      "cell_type": "code",
      "metadata": {
        "id": "90eIfdQtlKzs",
        "colab_type": "code",
        "colab": {
          "base_uri": "https://localhost:8080/",
          "height": 212
        },
        "outputId": "7d999200-adda-49ed-c23d-439280a23973"
      },
      "source": [
        "!cd Pyrit/modules/cpyrit_opencl && python2.7 setup.py build"
      ],
      "execution_count": 8,
      "outputs": [
        {
          "output_type": "stream",
          "text": [
            "running build\n",
            "running build_ext\n",
            "Building modules...\n",
            "building 'cpyrit._cpyrit_opencl' extension\n",
            "creating build\n",
            "creating build/temp.linux-x86_64-2.7\n",
            "x86_64-linux-gnu-gcc -pthread -fno-strict-aliasing -Wdate-time -D_FORTIFY_SOURCE=2 -g -fdebug-prefix-map=/build/python2.7-UKCoZ3/python2.7-2.7.17=. -fstack-protector-strong -Wformat -Werror=format-security -fPIC -I/usr/local/cuda/include -I/usr/include/python2.7 -c _cpyrit_opencl.c -o build/temp.linux-x86_64-2.7/_cpyrit_opencl.o -Wall -fno-strict-aliasing -DVERSION=\"0.5.0\"\n",
            "creating build/lib.linux-x86_64-2.7\n",
            "creating build/lib.linux-x86_64-2.7/cpyrit\n",
            "x86_64-linux-gnu-gcc -pthread -shared -Wl,-O1 -Wl,-Bsymbolic-functions -Wl,-Bsymbolic-functions -Wl,-z,relro -fno-strict-aliasing -DNDEBUG -g -fwrapv -O2 -Wall -Wstrict-prototypes -Wdate-time -D_FORTIFY_SOURCE=2 -g -fdebug-prefix-map=/build/python2.7-UKCoZ3/python2.7-2.7.17=. -fstack-protector-strong -Wformat -Werror=format-security -Wl,-Bsymbolic-functions -Wl,-z,relro -Wdate-time -D_FORTIFY_SOURCE=2 -g -fdebug-prefix-map=/build/python2.7-UKCoZ3/python2.7-2.7.17=. -fstack-protector-strong -Wformat -Werror=format-security -fPIC build/temp.linux-x86_64-2.7/_cpyrit_opencl.o -lcrypto -lz -lOpenCL -o build/lib.linux-x86_64-2.7/cpyrit/_cpyrit_opencl.so\n"
          ],
          "name": "stdout"
        }
      ]
    },
    {
      "cell_type": "code",
      "metadata": {
        "id": "p_j3mFoY17ux",
        "colab_type": "code",
        "colab": {
          "base_uri": "https://localhost:8080/",
          "height": 157
        },
        "outputId": "d2cfe208-cc98-4791-e102-19a12a47d795"
      },
      "source": [
        "!cd Pyrit/modules/cpyrit_opencl && python2.7 setup.py install"
      ],
      "execution_count": 9,
      "outputs": [
        {
          "output_type": "stream",
          "text": [
            "running install\n",
            "running build\n",
            "running build_ext\n",
            "Building modules...\n",
            "running install_lib\n",
            "copying build/lib.linux-x86_64-2.7/cpyrit/_cpyrit_opencl.so -> /usr/local/lib/python2.7/dist-packages/cpyrit\n",
            "running install_egg_info\n",
            "Writing /usr/local/lib/python2.7/dist-packages/cpyrit_opencl-0.5.0.egg-info\n"
          ],
          "name": "stdout"
        }
      ]
    },
    {
      "cell_type": "code",
      "metadata": {
        "id": "Uv7rCygJv5ze",
        "colab_type": "code",
        "colab": {
          "base_uri": "https://localhost:8080/",
          "height": 806
        },
        "outputId": "1594c69b-65d6-4611-a5bd-a028fb1ecb2d"
      },
      "source": [
        "!pyrit -h"
      ],
      "execution_count": 10,
      "outputs": [
        {
          "output_type": "stream",
          "text": [
            "Pyrit 0.5.1 (C) 2008-2011 Lukas Lueg - 2015 John Mora\n",
            "https://github.com/JPaulMora/Pyrit\n",
            "This code is distributed under the GNU General Public License v3+\n",
            "\n",
            "Usage: pyrit [options] command\n",
            "\n",
            "Recognized options:\n",
            "  -b               : Filters AccessPoint by BSSID\n",
            "  -e               : Filters AccessPoint by ESSID\n",
            "  -h               : Print help for a certain command\n",
            "  -i               : Filename for input ('-' is stdin)\n",
            "  -o               : Filename for output ('-' is stdout)\n",
            "  -r               : Packet capture source in pcap-format\n",
            "  -u               : URL of the storage-system to use\n",
            "  --all-handshakes : Use all handshakes instead of the best one\n",
            "  --aes            : Use AES\n",
            "\n",
            "Recognized commands:\n",
            "  analyze                 : Analyze a packet-capture file\n",
            "  attack_batch            : Attack a handshake with PMKs/passwords from the db\n",
            "  attack_cowpatty         : Attack a handshake with PMKs from a cowpatty-file\n",
            "  attack_db               : Attack a handshake with PMKs from the db\n",
            "  attack_passthrough      : Attack a handshake with passwords from a file\n",
            "  batch                   : Batchprocess the database\n",
            "  benchmark               : Determine performance of available cores\n",
            "  benchmark_long          : Longer and more accurate version of benchmark (5 minutes)\n",
            "  check_db                : Check the database for errors\n",
            "  create_essid            : Create a new ESSID\n",
            "  delete_essid            : Delete a ESSID from the database\n",
            "  eval                    : Count the available passwords and matching results\n",
            "  export_cowpatty         : Export results to a new cowpatty file\n",
            "  export_hashdb           : Export results to an airolib database\n",
            "  export_passwords        : Export passwords to a file\n",
            "  help                    : Print general help\n",
            "  import_passwords        : Import passwords from a file-like source\n",
            "  import_unique_passwords : Import unique passwords from a file-like source\n",
            "  list_cores              : List available cores\n",
            "  list_essids             : List all ESSIDs but don't count matching results\n",
            "  passthrough             : Compute PMKs and write results to a file\n",
            "  relay                   : Relay a storage-url via RPC\n",
            "  selftest                : Test hardware to ensure it computes correct results\n",
            "  serve                   : Serve local hardware to other Pyrit clients\n",
            "  strip                   : Strip packet-capture files to the relevant packets\n",
            "  stripLive               : Capture relevant packets from a live capture-source\n",
            "  verify                  : Verify 10% of the results by recomputation\n"
          ],
          "name": "stdout"
        }
      ]
    },
    {
      "cell_type": "code",
      "metadata": {
        "id": "NfVR7N-wlamG",
        "colab_type": "code",
        "colab": {}
      },
      "source": [
        "!rm ~/.pyrit/config"
      ],
      "execution_count": 11,
      "outputs": []
    },
    {
      "cell_type": "code",
      "metadata": {
        "id": "E5oVyj4ws-eH",
        "colab_type": "code",
        "colab": {}
      },
      "source": [
        "!mv /content/config /root/.pyrit/"
      ],
      "execution_count": 12,
      "outputs": []
    },
    {
      "cell_type": "code",
      "metadata": {
        "id": "sjoq-uuK28rI",
        "colab_type": "code",
        "colab": {}
      },
      "source": [
        "!pyrit list_cores"
      ],
      "execution_count": null,
      "outputs": []
    },
    {
      "cell_type": "code",
      "metadata": {
        "id": "aerikLKZp7zI",
        "colab_type": "code",
        "colab": {
          "base_uri": "https://localhost:8080/",
          "height": 210
        },
        "outputId": "92a85a51-0271-40d0-bb2f-098c48df88a2"
      },
      "source": [
        "#!pyrit benchmark"
      ],
      "execution_count": 13,
      "outputs": [
        {
          "output_type": "stream",
          "text": [
            "Pyrit 0.5.1 (C) 2008-2011 Lukas Lueg - 2015 John Mora\n",
            "https://github.com/JPaulMora/Pyrit\n",
            "This code is distributed under the GNU General Public License v3+\n",
            "\n",
            "Running benchmark (112775.1 PMKs/s)... / \n",
            "\n",
            "Computed 112775.10 PMKs/s total.\n",
            "#1: 'CPU-Core (SSE2)': 294.7 PMKs/s (RTT 3.0)\n",
            "#2: 'CPU-Core (SSE2)': 297.2 PMKs/s (RTT 3.1)\n",
            "OpenCL:\n",
            "#1: 'OpenCL-Device 'Tesla P100-PCIE-16GB'': 120660.1 PMKs/s (RTT 1.4)\n"
          ],
          "name": "stdout"
        }
      ]
    }
  ]
}